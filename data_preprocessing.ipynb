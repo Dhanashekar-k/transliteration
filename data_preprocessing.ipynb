{
 "cells": [
  {
   "cell_type": "code",
   "execution_count": 5,
   "id": "f78ffa3c-845a-479e-807f-54ac17981fe9",
   "metadata": {
    "tags": []
   },
   "outputs": [
    {
     "name": "stdout",
     "output_type": "stream",
     "text": [
      "Datasets converted successfully and saved to individual files in the 'modified_data' folder.\n"
     ]
    }
   ],
   "source": [
    "import json\n",
    "import os\n",
    "\n",
    "# Ensure output folder exists\n",
    "os.makedirs('modified_data', exist_ok=True)\n",
    "\n",
    "# Paths to your input and output files\n",
    "input_files = ['kan/kan_train.json', 'kan/kan_valid.json', 'kan/kan_test.json']\n",
    "output_files = ['modified_data/train.txt', 'modified_data/val.txt', 'modified_data/test.txt']\n",
    "\n",
    "for input_file, output_file in zip(input_files, output_files):\n",
    "    with open(input_file, 'r', encoding='utf-8') as in_f, open(output_file, 'w', encoding='utf-8') as out_f:\n",
    "        for line in in_f:\n",
    "            data = json.loads(line)\n",
    "            english_word = data['english word']\n",
    "            native_word = data['native word']\n",
    "\n",
    "            formatted_line = f\"{english_word}\\t<start>{native_word}<end>\\n\"\n",
    "            out_f.write(formatted_line)\n",
    "\n",
    "print(\"Datasets converted successfully and saved to individual files in the 'modified_data' folder.\")\n"
   ]
  },
  {
   "cell_type": "code",
   "execution_count": null,
   "id": "17be07f1-04e5-4481-ae53-0c378e4729b5",
   "metadata": {},
   "outputs": [],
   "source": []
  }
 ],
 "metadata": {
  "kernelspec": {
   "display_name": "transliteration",
   "language": "python",
   "name": "transliteration"
  },
  "language_info": {
   "codemirror_mode": {
    "name": "ipython",
    "version": 3
   },
   "file_extension": ".py",
   "mimetype": "text/x-python",
   "name": "python",
   "nbconvert_exporter": "python",
   "pygments_lexer": "ipython3",
   "version": "3.10.11"
  }
 },
 "nbformat": 4,
 "nbformat_minor": 5
}
